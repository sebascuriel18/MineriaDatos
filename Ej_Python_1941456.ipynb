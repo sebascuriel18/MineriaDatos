
#Ejercicio 1
##Realiza una variable con tu matricula y realiza una secuencia de imprimir con tu nombre y tu matricula concatenados.
{
 "cells": [
  {
   "cell_type": "code",
   "execution_count": 4,
   "metadata": {},
   "outputs": [
    {
     "name": "stdout",
     "output_type": "stream",
     "text": [
      "Sebastian Gonzalez Curiel 1941456\n"
     ]
    }
   ],
   "source": [
    "nmb='Sebastian Gonzalez Curiel'\n",
    "mat=1941456\n",
    "print(nmb,mat)"
   ]
  },
  {
   "cell_type": "code",
   "execution_count": 67,
   "metadata": {},
   "outputs": [
    {
     "name": "stdout",
     "output_type": "stream",
     "text": [
      "Introduce un número: 5\n",
      "Introduce otro número:  2\n",
      "La suma de los numeros es:  7\n",
      "La resta de los numeros es:  3\n",
      "La multiplicacion de los numeros es:  10\n",
      "La division de los numeros es:  2.5\n",
      "El primer numero elevado al segundo numero es:  25\n"
     ]
    }
   ],
   "source": [
    "num1 = int(input(\"Introduce un número: \" ))\n",
    "num2 = int(input(\"Introduce otro número:  \"))\n",
    "\n",
    "print (\"La suma de los numeros es: \",num1+num2 )\n",
    "print(\"La resta de los numeros es: \",num1-num2 )\n",
    "print(\"La multiplicacion de los numeros es: \",num1*num2 )\n",
    "print(\"La division de los numeros es: \",num1/num2 )\n",
    "print(\"El primer numero elevado al segundo numero es: \",num1**num2 )"
   ]
  },
  {
   "cell_type": "code",
   "execution_count": 16,
   "metadata": {},
   "outputs": [
    {
     "name": "stdout",
     "output_type": "stream",
     "text": [
      "3\n",
      "6\n",
      "9\n",
      "12\n",
      "15\n",
      "18\n",
      "21\n",
      "24\n",
      "27\n",
      "30\n",
      "La suma de los primeros 10 multiplos de 3 es:  165\n"
     ]
    }
   ],
   "source": [
    "x=3\n",
    "suma=0\n",
    "i=0\n",
    "for i in range(0,10) :\n",
    "    print(x)\n",
    "    suma=suma+x\n",
    "    x=x+3\n",
    "    i=i+1\n",
    "\n",
    "print('La suma de los primeros 10 multiplos de 3 es: ',suma)"
   ]
  },
  {
   "cell_type": "code",
   "execution_count": 68,
   "metadata": {},
   "outputs": [
    {
     "name": "stdout",
     "output_type": "stream",
     "text": [
      "Introduce un número: 75\n",
      "El numero que ingreso es impar\n"
     ]
    }
   ],
   "source": [
    "x= int(input(\"Introduce un número: \" ))\n",
    "if x%2==0:\n",
    "    print('El numero que ingreso es par')\n",
    "else:\n",
    "    print('El numero que ingreso es impar')"
   ]
  },
  {
   "cell_type": "code",
   "execution_count": 69,
   "metadata": {},
   "outputs": [
    {
     "name": "stdout",
     "output_type": "stream",
     "text": [
      "Introduce un número: 7\n",
      "El numero que ingreso es primo\n"
     ]
    }
   ],
   "source": [
    "x = int(input(\"Introduce un número: \" ))\n",
    "i=0\n",
    "c=0\n",
    "for i in range(2,x):\n",
    "    if x%i==0:\n",
    "        c=c+1\n",
    "\n",
    "if c==0:\n",
    "    print('El numero que ingreso es primo')\n",
    "else:\n",
    "    print('El numero que ingreso no es primo')"
   ]
  },
  {
   "cell_type": "code",
   "execution_count": 70,
   "metadata": {},
   "outputs": [
    {
     "name": "stdout",
     "output_type": "stream",
     "text": [
      "Calculadora Virtual SGC\n",
      "Ingresa una opción:\n",
      "0. Suma\n",
      "1. Resta\n",
      "2. Multiplicación\n",
      "3. División\n",
      "4. Potencia\n",
      "5. Salir\n",
      "\n",
      "Opcion:2\n",
      "Ingresa un número: 5\n",
      "Ingresa otro número: 3\n",
      "La multiplicacion de los números es:  15.0\n",
      "Ingresa una opción:\n",
      "0. Suma\n",
      "1. Resta\n",
      "2. Multiplicación\n",
      "3. División\n",
      "4. Potencia\n",
      "5. Salir\n",
      "\n",
      "Opcion:4\n",
      "Ingresa un número: 6\n",
      "Ingresa otro número: 2\n",
      "El primer numero elevado al segundo numero es: 36.0\n",
      "Ingresa una opción:\n",
      "0. Suma\n",
      "1. Resta\n",
      "2. Multiplicación\n",
      "3. División\n",
      "4. Potencia\n",
      "5. Salir\n",
      "\n",
      "Opcion:5\n",
      "Gracias por usar la caluladora virtual SGC\n"
     ]
    }
   ],
   "source": [
    "x=0\n",
    "y=0\n",
    "z=0\n",
    "c=0\n",
    "print('Calculadora Virtual SGC')\n",
    "while c!=5:\n",
    "    c=int(input('Ingresa una opción:\\n0. Suma\\n1. Resta\\n2. Multiplicación\\n3. División\\n4. Potencia\\n5. Salir\\n\\nOpcion:'))\n",
    "    while c<0 or c>5:\n",
    "        c=int(input(\"Error \"))\n",
    "    if c==0:\n",
    "        x=float(input(\"Ingresa un número: \"))\n",
    "        y=float(input(\"Ingresa otro número: \"))\n",
    "        z=x+y\n",
    "        print(\"La suma de los números es: \",z)\n",
    "    if c==1:\n",
    "        x=float(input(\"Ingresa un número: \"))\n",
    "        y=float(input(\"Ingresa otro número: \"))\n",
    "        z=x-y\n",
    "        print(\"La resta de los números es: \",z)\n",
    "    if c==2:\n",
    "        x=float(input(\"Ingresa un número: \"))\n",
    "        y=float(input(\"Ingresa otro número: \"))\n",
    "        z=x*y\n",
    "        print(\"La multiplicacion de los números es: \",z)\n",
    "    if c==3:\n",
    "        x=float(input(\"Ingresa un número: \"))\n",
    "        y=float(input(\"Ingresa otro número: \"))\n",
    "        z=x/y\n",
    "        print(\"La division de los números es: \",z)\n",
    "    if c==4:\n",
    "        x=float(input(\"Ingresa un número: \"))\n",
    "        y=float(input(\"Ingresa otro número: \"))\n",
    "        z=x**y\n",
    "        print('El primer numero elevado al segundo numero es:',z)\n",
    "print('Gracias por usar la caluladora virtual SGC')"
   ]
  },
  {
   "cell_type": "code",
   "execution_count": 27,
   "metadata": {},
   "outputs": [
    {
     "name": "stdout",
     "output_type": "stream",
     "text": [
      "La variable 5.6789 es de tipo <class 'float'>\n",
      "La variable 29 es de tipo <class 'int'>\n",
      "La variable True es de tipo <class 'bool'>\n",
      "La variable 18j es de tipo <class 'complex'>\n"
     ]
    }
   ],
   "source": [
    "flt=5.6789\n",
    "ing=29\n",
    "bol=True\n",
    "com=18j\n",
    "print('La variable',flt,'es de tipo',type(flt))\n",
    "print('La variable',ing,'es de tipo',type(ing))\n",
    "print('La variable',bol,'es de tipo',type(bol))\n",
    "print('La variable',com,'es de tipo',type(com))"
   ]
  },
  {
   "cell_type": "code",
   "execution_count": 32,
   "metadata": {},
   "outputs": [
    {
     "name": "stdout",
     "output_type": "stream",
     "text": [
      "El primer valor de la tupla es: 1\n",
      "El ultimo valor de la tupla es: 29\n"
     ]
    }
   ],
   "source": [
    "tup=(1,6,18,27,29)\n",
    "long=len(tup)\n",
    "print('El primer valor de la tupla es:',tup[0])\n",
    "print('El ultimo valor de la tupla es:',tup[long-1])"
   ]
  },
  {
   "cell_type": "code",
   "execution_count": 34,
   "metadata": {},
   "outputs": [
    {
     "name": "stdout",
     "output_type": "stream",
     "text": [
      "(1, 6, 18, 27, 29, 'hola', 'adios', 'sebas')\n"
     ]
    }
   ],
   "source": [
    "tup=(1,6,18,27,29,\"hola\",\"adios\",\"sebas\")\n",
    "print(tup)"
   ]
  },
  {
   "cell_type": "code",
   "execution_count": 36,
   "metadata": {},
   "outputs": [
    {
     "name": "stdout",
     "output_type": "stream",
     "text": [
      "Buscar la variable:hola\n",
      "La variable esta en la tupla\n"
     ]
    }
   ],
   "source": [
    "tup=(1,6,18,27,29,\"hola\",\"adios\",\"sebas\")\n",
    "var=input('Buscar la variable:')\n",
    "if var in tup:\n",
    "    print('La variable esta en la tupla')\n",
    "else:\n",
    "    print('La variable no está en la tupla')"
   ]
  },
  {
   "cell_type": "code",
   "execution_count": 41,
   "metadata": {},
   "outputs": [
    {
     "name": "stdout",
     "output_type": "stream",
     "text": [
      "Lista: [23, 68, 83, 15, 11, 97, 14, 92, 10, 39, 94, 25, 53, 46, 77, 9, 51, 27, 66, 30, 31, 22, 35, 74, 87, 67, 21, 71, 73, 44, 3, 98, 96, 63, 45, 29, 28, 95, 93, 65]\n",
      "\n",
      "Numeros pares de la lista:  [68, 14, 92, 10, 94, 46, 66, 30, 22, 74, 44, 98, 96, 28] \n",
      "\n",
      "Numeros impares de la lista:  [23, 83, 15, 11, 97, 39, 25, 53, 77, 9, 51, 27, 31, 35, 87, 67, 21, 71, 73, 3, 63, 45, 29, 95, 93, 65]\n",
      "\n",
      "Cantidad de numeros pares en la lista:  21 \n",
      "\n",
      "Cantidad de numeros impares en la lista: 19\n",
      "\n",
      "Numeros pares de mayor a menor:  [98, 96, 94, 92, 74, 68, 66, 46, 44, 30, 28, 22, 14, 10]\n",
      "\n",
      "Numeros impares de menor a mayor:  [3, 9, 11, 15, 21, 23, 25, 27, 29, 31, 35, 39, 45, 51, 53, 63, 65, 67, 71, 73, 77, 83, 87, 93, 95, 97]\n",
      "\n",
      "Suma de los numeros:  2070\n",
      "\n",
      "Promedio de los numeros:  51.75\n",
      "\n",
      "Numero menor de la lista:  3\n",
      "\n",
      "Numero mayor de la lista:  98\n"
     ]
    }
   ],
   "source": [
    "import random\n",
    "def par(l):\n",
    "    par=list()\n",
    "    for x in l:\n",
    "        if x%2==0:\n",
    "            par.append(x)\n",
    "    return par\n",
    "\n",
    "def impar(l):\n",
    "    impar=list()\n",
    "    for x in l:\n",
    "        if x%2!=0:\n",
    "            impar.append(x)\n",
    "    return impar\n",
    "\n",
    "lisx=list()\n",
    "lisy=list()\n",
    "X=range(0,100)\n",
    "lis=random.sample(X,40)\n",
    "print(\"Lista:\",lis)\n",
    "lisx=par(lis)\n",
    "lisy=impar(lis)\n",
    "print(\"\\nNumeros pares de la lista: \",lisx,\"\\n\\nNumeros impares de la lista: \",lisy)\n",
    "lispar=len(lis1)\n",
    "lisimpar=len(lis2)\n",
    "print(\"\\nCantidad de numeros pares en la lista: \",lispar,\"\\n\\nCantidad de numeros impares en la lista:\",lisimpar)\n",
    "lisy.sort()\n",
    "lisx1=sorted(lisx,reverse=True) \n",
    "print(\"\\nNumeros pares de mayor a menor: \",lisx1)\n",
    "print(\"\\nNumeros impares de menor a mayor: \",lisy)\n",
    "\n",
    "suma=sum(lis)\n",
    "prom=suma/40\n",
    "maxi=max(lis)\n",
    "mini=min(lis)\n",
    "lis.sort()\n",
    "\n",
    "print(\"\\nSuma de los numeros: \",suma)\n",
    "print(\"\\nPromedio de los numeros: \",prom)\n",
    "print(\"\\nNumero menor de la lista: \",mini)\n",
    "print(\"\\nNumero mayor de la lista: \",maxi)"
   ]
  },
  {
   "cell_type": "code",
   "execution_count": 44,
   "metadata": {},
   "outputs": [
    {
     "name": "stdout",
     "output_type": "stream",
     "text": [
      "Personas y su edad:  {'Sebas': 20, 'Hector': 18, 'Yair': 21, 'Daniel': 20, 'Alexis': 17, 'Ricky': 22}\n",
      "\n",
      "Edades de menor a mayor [17, 18, 20, 20, 21, 22]\n",
      "\n",
      "Nombres: \n",
      "Sebas\n",
      "Hector\n",
      "Yair\n",
      "Daniel\n",
      "Alexis\n",
      "Ricky\n",
      "\n",
      "Personas y su edad 2.0:  {'Sebas': 20, 'Hector': 18, 'Yair': 21, 'Daniel': 20, 'Alexis': 17, 'Ricky': 22, 'Andree': 23, 'Adrian': 16}\n"
     ]
    }
   ],
   "source": [
    "lis={'Sebas':20,'Hector':18,'Yair':21,'Daniel':20,'Alexis':17,'Ricky':22}\n",
    "print(\"Personas y su edad: \",lis)\n",
    "edad=list()\n",
    "for i in lis:\n",
    "    edad.append(lis[i])\n",
    "edad.sort()\n",
    "print(\"\\nEdades de menor a mayor\",edad)\n",
    "print(\"\\nNombres: \")\n",
    "nom=lis.keys() \n",
    "for j in nom:\n",
    "    print(j)\n",
    "lis['Andree']=23\n",
    "lis['Adrian']=16\n",
    "print(\"\\nPersonas y su edad 2.0: \",lis)"
   ]
  },
  {
   "cell_type": "code",
   "execution_count": 66,
   "metadata": {},
   "outputs": [
    {
     "name": "stdout",
     "output_type": "stream",
     "text": [
      "Set: [55, 2, 8, 40, 52, 66, 81, 76, 45, 46, 61, 48, 15, 93, 67, 84, 60, 34, 54, 12, 91, 65, 57, 44, 64, 82, 99, 56, 59, 10, 85, 30, 50, 41, 43, 31, 89, 70, 36, 38, 17, 78, 87, 6, 25, 32, 23, 72, 94, 51, 18, 27, 71, 74, 16, 63, 88, 49, 92, 86, 83, 9, 42, 28, 90, 7, 26, 53, 21, 39, 75, 37, 1, 4, 80, 77, 19, 97, 98, 62, 47, 13, 96, 14, 0, 5, 73, 69, 24, 3, 95, 11, 79, 35, 33, 58, 22, 68, 29, 20]\n",
      "\n",
      "La longitud del set es 100\n",
      "\n",
      "Lista: [6, 9, 5, 8, 3]\n",
      "6 Esta en la lista\n",
      "9 Esta en la lista\n",
      "5 Esta en la lista\n",
      "8 Esta en la lista\n",
      "3 Esta en la lista\n"
     ]
    }
   ],
   "source": [
    "x=range(0,100)\n",
    "lis=random.sample(x,100)\n",
    "print(\"Set:\",lis)\n",
    "c=len(lis)\n",
    "print('\\nLa longitud del set es',c)\n",
    "y=range(1,10)\n",
    "lis1=random.sample(y,5)\n",
    "print(\"\\nLista:\",lis1)\n",
    "for i in lis1:\n",
    "    if i in lis:\n",
    "        print(i,'Esta en la lista')\n",
    "    else:\n",
    "        print(i,'No esta en la lista')"
   ]
  },
  {
   "cell_type": "code",
   "execution_count": null,
   "metadata": {},
   "outputs": [],
   "source": []
  }
 ],
 "metadata": {
  "kernelspec": {
   "display_name": "Python 3",
   "language": "python",
   "name": "python3"
  },
  "language_info": {
   "codemirror_mode": {
    "name": "ipython",
    "version": 3
   },
   "file_extension": ".py",
   "mimetype": "text/x-python",
   "name": "python",
   "nbconvert_exporter": "python",
   "pygments_lexer": "ipython3",
   "version": "3.8.5"
  }
 },
 "nbformat": 4,
 "nbformat_minor": 4
}
